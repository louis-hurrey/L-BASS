{
 "cells": [
  {
   "cell_type": "code",
   "execution_count": 61,
   "metadata": {},
   "outputs": [],
   "source": [
    "from astropy_healpix import HEALPix\n",
    "from astropy.coordinates import Galactic\n",
    "from astropy.io import fits\n",
    "import numpy as np\n",
    "from scipy.interpolate import griddata\n",
    "import matplotlib.pyplot as plt"
   ]
  },
  {
   "cell_type": "code",
   "execution_count": 48,
   "metadata": {},
   "outputs": [],
   "source": [
    "hp = HEALPix(nside=256, frame=Galactic())\n",
    "npix = hp.npix\n",
    "lon, lat = hp.healpix_to_lonlat(np.arange(npix))\n",
    "lon = lon.degree  #convert to degrees\n",
    "lat = lat.degree"
   ]
  },
  {
   "cell_type": "code",
   "execution_count": 49,
   "metadata": {},
   "outputs": [],
   "source": [
    "hdu1 = fits.open('VIII_28/fits/whsky001.fit')\n",
    "header = hdu1[0].header\n",
    "NAXIS1 = header['NAXIS1']\n",
    "NAXIS2 = header['NAXIS2']\n",
    "CRVAL1 = header['CRVAL1']\n",
    "CRVAL2 = header['CRVAL2']\n",
    "CRPIX1 = header['CRPIX1']\n",
    "CRPIX2 = header['CRPIX2']\n",
    "CDELT1 = header['CDELT1']\n",
    "CDELT2 = header['CDELT2']\n",
    "hdu1.close()"
   ]
  },
  {
   "cell_type": "code",
   "execution_count": 50,
   "metadata": {},
   "outputs": [],
   "source": [
    "bell_lon = CRVAL1 + CDELT1 * (np.arange(NAXIS1) - CRPIX1 + 1)\n",
    "bell_lat = CRVAL2 + CDELT2 * (np.arange(NAXIS2) - CRPIX2 + 1)\n",
    "bell_lon, bell_lat = np.meshgrid(bell_lon, bell_lat)\n",
    "bell_lon = bell_lon.flatten()\n",
    "bell_lat = bell_lat.flatten()"
   ]
  },
  {
   "cell_type": "code",
   "execution_count": 51,
   "metadata": {},
   "outputs": [],
   "source": [
    "nchan = 145\n",
    "bell_hp = np.zeros((npix, nchan))"
   ]
  },
  {
   "cell_type": "code",
   "execution_count": 52,
   "metadata": {},
   "outputs": [],
   "source": [
    "pattern = \"VIII_28/fits/whsky{:03}.fit\"\n",
    "for ichan in range(nchan):\n",
    "    filename = pattern.format(ichan + 1)\n",
    "    hdu = fits.open(filename)\n",
    "    image = hdu[0].data.flatten()\n",
    "    hdu.close()\n",
    "\n",
    "    interpolated_values = griddata((bell_lon, bell_lat), image, (lon, lat), method='linear')\n",
    "    bell_hp[:, ichan] = interpolated_values"
   ]
  },
  {
   "cell_type": "code",
   "execution_count": 54,
   "metadata": {},
   "outputs": [],
   "source": [
    "hdu = fits.PrimaryHDU(bell_hp)\n",
    "hdul = fits.HDUList([hdu])\n",
    "hdul.writeto('output_healpix_map.fits', overwrite=True)"
   ]
  },
  {
   "cell_type": "code",
   "execution_count": 105,
   "metadata": {},
   "outputs": [
    {
     "name": "stdout",
     "output_type": "stream",
     "text": [
      "Rows equal (without considering NaNs): False\n",
      "Columns equal (without considering NaNs): False\n",
      "Rows equal (considering NaNs): True\n",
      "Columns equal (considering NaNs): False\n"
     ]
    }
   ],
   "source": [
    "def compare_fits_edges(file_path):\n",
    "    with fits.open(file_path) as hdul:\n",
    "        data = hdul[0].data\n",
    "\n",
    "    top_row = data[0, :]\n",
    "    bottom_row = data[-1, :]\n",
    "    left_column = data[:, 0]\n",
    "    right_column = data[:, -1]\n",
    "\n",
    "    rows_equal = np.array_equal(top_row, bottom_row)\n",
    "    columns_equal = np.array_equal(left_column, right_column)\n",
    "\n",
    "    rows_equal_with_nan = np.all((top_row == bottom_row) | (np.isnan(top_row) & np.isnan(bottom_row)))\n",
    "    columns_equal_with_nan = np.all((left_column == right_column) | (np.isnan(left_column) & np.isnan(right_column)))\n",
    "\n",
    "    return rows_equal, columns_equal, rows_equal_with_nan, columns_equal_with_nan\n",
    "\n",
    "file_path = 'VIII_28/fits/whsky001.fit'\n",
    "rows_equal, columns_equal, rows_equal_with_nan, columns_equal_with_nan = compare_fits_edges(file_path)\n",
    "\n",
    "print(f\"Rows equal (without considering NaNs): {rows_equal}\")\n",
    "print(f\"Columns equal (without considering NaNs): {columns_equal}\")\n",
    "print(f\"Rows equal (considering NaNs): {rows_equal_with_nan}\")\n",
    "print(f\"Columns equal (considering NaNs): {columns_equal_with_nan}\")\n",
    "\n"
   ]
  }
 ],
 "metadata": {
  "kernelspec": {
   "display_name": "base",
   "language": "python",
   "name": "python3"
  },
  "language_info": {
   "codemirror_mode": {
    "name": "ipython",
    "version": 3
   },
   "file_extension": ".py",
   "mimetype": "text/x-python",
   "name": "python",
   "nbconvert_exporter": "python",
   "pygments_lexer": "ipython3",
   "version": "3.8.19"
  }
 },
 "nbformat": 4,
 "nbformat_minor": 2
}
