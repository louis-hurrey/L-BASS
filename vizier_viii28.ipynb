{
 "cells": [
  {
   "cell_type": "code",
   "execution_count": 9,
   "id": "736d1f0a",
   "metadata": {},
   "outputs": [],
   "source": [
    "#pip install pyvo mocpy ipyaladin"
   ]
  },
  {
   "cell_type": "code",
   "execution_count": 10,
   "metadata": {},
   "outputs": [],
   "source": [
    "# Access astronomical databases\n",
    "from pyvo import registry  # version >=1.4.1 \n",
    "\n",
    "# Moc and HEALPix tools\n",
    "from mocpy import MOC\n",
    "\n",
    "# Sky visualization\n",
    "from ipyaladin import Aladin    # version >=0.3.0\n",
    "\n",
    "# For plots\n",
    "import matplotlib.pyplot as plt\n",
    "\n",
    "from astropy.io import fits"
   ]
  },
  {
   "cell_type": "markdown",
   "metadata": {},
   "source": [
    "# Welcome to VizieR example workflow\n",
    "\n",
    "[![Vizier](https://custom-icon-badges.demolab.com/badge/Vizier-gray.svg?logo=vizier&logoColor=orange&logoWidth=20)](https://vizier.cds.unistra.fr/viz-bin/VizieR \"https://vizier.cds.unistra.fr/viz-bin/VizieR\")\n",
    "\n",
    "It is a generic notebook, highlighting what can be done once you chose a catalog. This workflow is suggested by [CDS](https://cdsweb.unistra.fr/) (Strasbourg Astronomical Data Center, house of [VizieR](https://vizier.cds.unistra.fr/viz-bin/VizieR)).\n",
    "\n",
    "--------------------------------------------------------\n",
    "\n",
    "Modify the <a href='https://vizier.cds.unistra.fr/'>VizieR catalogue</a> name (variable <b>CATALOGUE</b>) and anything else you might feel like exploring!\n",
    "\n",
    "## 1. Setup\n",
    "\n",
    "This example notebook has the following dependencies: \n",
    "\n",
    "**Required**\n",
    "- pyvo : this library facilitates the access to the Virtual Observatory (VO) resources. VizieR is part of the VO.\n",
    "This notebook needs version >=1.4.1\n",
    "\n",
    "**Optional, for visualization**\n",
    "- ipyaladin : this is the Aladin-lite sky viewer, bundled as a jupyter widget. It allows to plot catalogs and multi-order coverages (MOC)\n",
    "- matplotlib : an other option to see catalog points and MOCs\n",
    "\n",
    "## 2. Metadata exploration with the Virtual Observatory registry\n",
    "\n",
    "This part uses [pyvo](https://pyvo.readthedocs.io/en) to connect to the VO registry."
   ]
  },
  {
   "cell_type": "code",
   "execution_count": 11,
   "metadata": {},
   "outputs": [],
   "source": [
    "# the catalogue name in VizieR\n",
    "CATALOGUE = \"VIII/28\""
   ]
  },
  {
   "cell_type": "markdown",
   "metadata": {},
   "source": [
    "We first retrieve catalogue information."
   ]
  },
  {
   "cell_type": "code",
   "execution_count": 12,
   "metadata": {},
   "outputs": [],
   "source": [
    "# each resource in the VO has an identifier, called ivoid. For vizier catalogs,\n",
    "# the VO ids can be constructed like this:\n",
    "catalogue_ivoid = f\"ivo://CDS.VizieR/{CATALOGUE}\"\n",
    "# the actual query to the registry\n",
    "voresource = registry.search(ivoid=catalogue_ivoid)[0]"
   ]
  },
  {
   "cell_type": "code",
   "execution_count": 13,
   "metadata": {},
   "outputs": [
    {
     "name": "stdout",
     "output_type": "stream",
     "text": [
      "Bell Laboratories H I Survey\n",
      "Short Name: VIII/28\n",
      "IVOA Identifier: ivo://cds.vizier/viii/28\n",
      "Access modes: tap#aux, web\n",
      "Multi-capability service -- use get_service()\n",
      "\n",
      "The sky north of declination -40{deg} was observed in the 21cm line of atomic\n",
      "hydrogen with the FWHM=2{deg} beam of the 20 foot horn reflector at AT&T Bell\n",
      "Laboratories, Crawford Hill. The survey covers a velocity range of 654km/s\n",
      "centered on the Galactic standard of rest, with 5.3km/s wide filters. This\n",
      "survey is distinguished by its sensitivity to low surface brightness features\n",
      "(antenna temperature about 50mK) and relative freedom from sidelobe\n",
      "contamination. High-velocity clouds are extracted and catalogued\n",
      "automatically. The data are presented in declination zones in equatorial and\n",
      "polar coordinates, and as R.A. - velocity images. Introduction: Observations\n",
      "were made as drift scans along even declinations between -40{deg} and +90{deg}\n",
      "at the epoch (1981) of the observations. The horn antenna has a FWHM beam size\n",
      "of 2{deg} at 21cm. This large beam made it possible to cover the whole visible\n",
      "sky in 66 constant declination scans. The survey is undersampled in\n",
      "declination (one beam width sampling) and oversampled in right ascension\n",
      "(roughly quarter beamwidth sampling). The average rms noise of spectra taken\n",
      "at all declinations is 0.017K in 5.2km/s wide channels, although in some cases\n",
      "baseline problems make the survey unreliable at this level. The survey\n",
      "contains 19,248 spectra. The data are in FITS format.\n",
      "\n",
      "Waveband Coverage: radio\n",
      "\n",
      "Source: 1992ApJS...79...77S\n",
      "Authors: Stark A.A.,  Gammie C.F.,  Wilson R.W.,  Bally J.,  Linke R.A.\n",
      "More info: https://cdsarc.cds.unistra.fr/viz-bin/cat/VIII/28\n"
     ]
    }
   ],
   "source": [
    "# We can print metadata information about the catalogue\n",
    "voresource.describe(verbose=True)"
   ]
  },
  {
   "cell_type": "markdown",
   "metadata": {},
   "source": [
    "We can also inspect in details the `resource` object and access the attributes not provided by the describe method. See for example, the first author of a resource: "
   ]
  },
  {
   "cell_type": "code",
   "execution_count": 14,
   "metadata": {},
   "outputs": [
    {
     "data": {
      "text/plain": [
       "'Stark A.A.'"
      ]
     },
     "execution_count": 14,
     "metadata": {},
     "output_type": "execute_result"
    }
   ],
   "source": [
    "voresource.creators[0]"
   ]
  },
  {
   "cell_type": "markdown",
   "metadata": {},
   "source": [
    "## 3. Access the tabular data of this catalog\n",
    "\n",
    "We can have a look at the tables available in the catalogue."
   ]
  },
  {
   "cell_type": "code",
   "execution_count": 15,
   "metadata": {},
   "outputs": [
    {
     "data": {
      "text/plain": [
       "{'VIII/28/ravel': <VODataServiceTable name=\"VIII/28/ravel\">... 3 columns ...</VODataServiceTable>,\n",
       " 'VIII/28/sky': <VODataServiceTable name=\"VIII/28/sky\">... 5 columns ...</VODataServiceTable>}"
      ]
     },
     "execution_count": 15,
     "metadata": {},
     "output_type": "execute_result"
    }
   ],
   "source": [
    "tables = voresource.get_tables()\n",
    "tables"
   ]
  },
  {
   "cell_type": "code",
   "execution_count": 16,
   "metadata": {},
   "outputs": [
    {
     "data": {
      "text/plain": [
       "['VIII/28/ravel', 'VIII/28/sky']"
      ]
     },
     "execution_count": 16,
     "metadata": {},
     "output_type": "execute_result"
    }
   ],
   "source": [
    "# We can also extract the tables names for later use\n",
    "tables_names = list(tables.keys())\n",
    "tables_names"
   ]
  },
  {
   "cell_type": "markdown",
   "metadata": {},
   "source": [
    "The actual data can then be access using any of the ``access_modes`` of the voresource."
   ]
  },
  {
   "cell_type": "code",
   "execution_count": 17,
   "metadata": {},
   "outputs": [
    {
     "data": {
      "text/plain": [
       "{'tap#aux', 'web'}"
      ]
     },
     "execution_count": 17,
     "metadata": {},
     "output_type": "execute_result"
    }
   ],
   "source": [
    "voresource.access_modes()"
   ]
  },
  {
   "cell_type": "markdown",
   "metadata": {},
   "source": [
    "The web access is found by following the ``reference_url``"
   ]
  },
  {
   "cell_type": "code",
   "execution_count": 18,
   "metadata": {},
   "outputs": [
    {
     "data": {
      "text/plain": [
       "'https://cdsarc.cds.unistra.fr/viz-bin/cat/VIII/28'"
      ]
     },
     "execution_count": 18,
     "metadata": {},
     "output_type": "execute_result"
    }
   ],
   "source": [
    "voresource.reference_url"
   ]
  },
  {
   "cell_type": "markdown",
   "metadata": {},
   "source": [
    "### 3.1 Execute a SQL/ADQL query\n",
    "\n",
    "The ``tap#aux`` in the ``access_mode`` response indicates that we can also do a SQL/ADQL query for these VizieR tables.\n",
    "\n",
    "On the first table of the catalogue, we execute an <a href='https://www.ivoa.net/documents/latest/ADQL.html'>ADQL</a> query."
   ]
  },
  {
   "cell_type": "code",
   "execution_count": 19,
   "metadata": {
    "scrolled": true
   },
   "outputs": [
    {
     "data": {
      "text/plain": [
       "<DALResultsTable length=10>\n",
       "recno  cVel   FITS-Nfile   FITS-Wfile   FITS-Sfile \n",
       "      km / s                                       \n",
       "int32 int16     object       object       object   \n",
       "----- ------ ------------ ------------ ------------\n",
       "    1   -360 npcap001.fit spcap001.fit whsky001.fit\n",
       "    2   -355 npcap002.fit spcap002.fit whsky002.fit\n",
       "    3   -350 npcap003.fit spcap003.fit whsky003.fit\n",
       "    4   -345 npcap004.fit spcap004.fit whsky004.fit\n",
       "    5   -340 npcap005.fit spcap005.fit whsky005.fit\n",
       "    6   -335 npcap006.fit spcap006.fit whsky006.fit\n",
       "    7   -330 npcap007.fit spcap007.fit whsky007.fit\n",
       "    8   -325 npcap008.fit spcap008.fit whsky008.fit\n",
       "    9   -320 npcap009.fit spcap009.fit whsky009.fit\n",
       "   10   -315 npcap010.fit spcap010.fit whsky010.fit"
      ]
     },
     "execution_count": 19,
     "metadata": {},
     "output_type": "execute_result"
    }
   ],
   "source": [
    "# get the first table of the catalogue\n",
    "first_table_name = tables_names[1]\n",
    "\n",
    "# execute a synchronous ADQL query\n",
    "tap_service = voresource.get_service(\"tap\")\n",
    "tap_records = voresource.get_service(\"tap\").run_sync(\n",
    "    f'select TOP 10 * from \"{first_table_name}\"',\n",
    ")\n",
    "tap_records"
   ]
  },
  {
   "cell_type": "code",
   "execution_count": 20,
   "metadata": {
    "scrolled": false
   },
   "outputs": [],
   "source": [
    "##! unzip ~/LBASS/VIII_28.tar.zip -d ~/LBASS"
   ]
  },
  {
   "cell_type": "code",
   "execution_count": 22,
   "metadata": {},
   "outputs": [
    {
     "name": "stdout",
     "output_type": "stream",
     "text": [
      "Filename: VIII_28.tar/fits/whsky001.fit\n",
      "No.    Name      Ver    Type      Cards   Dimensions   Format\n",
      "  0  PRIMARY       1 PrimaryHDU      31   (800, 400, 1)   int16 (rescales to float32)   \n",
      "[[[-0.08216609 -0.08216609 -0.08216609 ... -0.08216609 -0.08216609\n",
      "   -0.08216609]\n",
      "  [-0.079271   -0.079271   -0.07929245 ... -0.07922812 -0.07924956\n",
      "   -0.079271  ]\n",
      "  [-0.075561   -0.0756039  -0.07564679 ... -0.07150789 -0.07155077\n",
      "   -0.07161511]\n",
      "  ...\n",
      "  [        nan         nan         nan ...         nan         nan\n",
      "           nan]\n",
      "  [        nan         nan         nan ...         nan         nan\n",
      "           nan]\n",
      "  [        nan         nan         nan ...         nan         nan\n",
      "           nan]]]\n"
     ]
    }
   ],
   "source": [
    "hdul = fits.open(\"VIII_28.tar/fits/whsky001.fit\")\n",
    "hdul.info()\n",
    "data = hdul[0].data\n",
    "print(data)\n",
    "hdul.close()"
   ]
  },
  {
   "cell_type": "code",
   "execution_count": 24,
   "metadata": {},
   "outputs": [
    {
     "name": "stdout",
     "output_type": "stream",
     "text": [
      "SIMPLE  =                    T /                                                BITPIX  =                   16 /                                                NAXIS   =                    3 /                                                NAXIS1  =                  800 /                                                NAXIS2  =                  400 /                                                NAXIS3  =                    1 /                                                CTYPE1  = 'GLON    '           /                                                CRVAL1  =           0.00000000 /                                                CDELT1  =         -0.450563204 /                                                CRPIX1  =           800.000000 /                                                CROTA1  =           0.00000000 /                                                CTYPE2  = 'GLAT    '           /                                                CRVAL2  =           0.00000000 /                                                CDELT2  =          0.451127820 /                                                CRPIX2  =           200.500000 /                                                CROTA2  =           0.00000000 /                                                CTYPE3  = 'FELO-LSR'           /                                                CRVAL3  =          -360000.000 /                                                CDELT3  =           10000.0000 /                                                CRPIX3  =           0.00000000 /                                                CROTA3  =           0.00000000 /                                                BLANK   =               -32768 /                                                BSCALE  =       2.14450871E-05 /                                                BZERO   =          0.118645698 /                                                BUNIT   = 'K-KM/S  '           /                                                DATAMAX =          0.821336865 /                                                DATAMIN =         -0.584045470 /                                                DATE    = '18/05/91'           /                                                TELESCOP= 'BTL 7M  '           /                                                HISTORY COMB TITLE HI.0  T*dV -365,-355                                         HISTORY COMB PARAM ir:200 gi: rc:                                               END                                                                                                                                                                                                                                                                                                                                                                                                             \n"
     ]
    }
   ],
   "source": [
    "whsky001 = fits.open(\"VIII_28.tar/fits/whsky001.fit\")\n",
    "npcap001 = fits.open(\"VIII_28.tar/fits/npcap001.fit\")\n",
    "spcap001 = fits.open(\"VIII_28.tar/fits/spcap001.fit\")\n",
    "print(whsky001[0].header)"
   ]
  },
  {
   "cell_type": "code",
   "execution_count": 25,
   "metadata": {},
   "outputs": [
    {
     "name": "stdout",
     "output_type": "stream",
     "text": [
      "SIMPLE  =                    T /                                                BITPIX  =                   16 /                                                NAXIS   =                    3 /                                                NAXIS1  =                  400 /                                                NAXIS2  =                  400 /                                                NAXIS3  =                    1 /                                                CTYPE1  = 'GLON-SIN'           /                                                CRVAL1  =           0.00000000 /                                                CDELT1  =         -0.300751880 /                                                CRPIX1  =           200.500000 /                                                CROTA1  =           0.00000000 /                                                CTYPE2  = 'GLAT-SIN'           /                                                CRVAL2  =           90.0000000 /                                                CDELT2  =          0.300751880 /                                                CRPIX2  =           200.500000 /                                                CROTA2  =           0.00000000 /                                                CTYPE3  = 'FELO-LSR'           /                                                CRVAL3  =          -360000.000 /                                                CDELT3  =           10000.0000 /                                                CRPIX3  =           0.00000000 /                                                CROTA3  =           0.00000000 /                                                BLANK   =               -32768 /                                                BSCALE  =       2.05967100E-05 /                                                BZERO   =          0.151423007 /                                                BUNIT   = 'K-KM/S  '           /                                                DATAMAX =          0.826315403 /                                                DATAMIN =         -0.523469388 /                                                DATE    = '18/05/91'           /                                                TELESCOP= 'BTL 7M  '           /                                                HISTORY COMB TITLE HI.0  T*dV -365,-355                                         HISTORY COMB PARAM ir:200 gi: ortho:                                            END                                                                                                                                                                                                                                                                                                                                                                                                             \n"
     ]
    }
   ],
   "source": [
    "print(npcap001[0].header)"
   ]
  },
  {
   "cell_type": "code",
   "execution_count": 26,
   "metadata": {},
   "outputs": [
    {
     "name": "stdout",
     "output_type": "stream",
     "text": [
      "SIMPLE  =                    T /                                                BITPIX  =                   16 /                                                NAXIS   =                    3 /                                                NAXIS1  =                  400 /                                                NAXIS2  =                  400 /                                                NAXIS3  =                    1 /                                                CTYPE1  = 'DX---SIN'           /                                                CRVAL1  =           0.00000000 /                                                CDELT1  =         -0.300751880 /                                                CRPIX1  =           200.500000 /                                                CROTA1  =           0.00000000 /                                                CTYPE2  = 'DY---SIN'           /                                                CRVAL2  =           0.00000000 /                                                CDELT2  =          0.300751880 /                                                CRPIX2  =           200.500000 /                                                CROTA2  =           0.00000000 /                                                CTYPE3  = 'FELO-LSR'           /                                                CRVAL3  =          -360000.000 /                                                CDELT3  =           10000.0000 /                                                CRPIX3  =           0.00000000 /                                                CROTA3  =           0.00000000 /                                                BLANK   =               -32768 /                                                BSCALE  =       2.06690234E-05 /                                                BZERO   =          0.143988371 /                                                BUNIT   = 'K-KM/S  '           /                                                DATAMAX =          0.821250260 /                                                DATAMIN =         -0.533273518 /                                                DATE    = '18/05/91'           /                                                TELESCOP= 'BTL 7M  '           /                                                HISTORY COMB TITLE HI.0  T*dV -365,-355                                         HISTORY COMB PARAM ir:200 gi: ortho:                                            END                                                                                                                                                                                                                                                                                                                                                                                                             \n"
     ]
    }
   ],
   "source": [
    "print(spcap001[0].header)"
   ]
  },
  {
   "cell_type": "code",
   "execution_count": 28,
   "metadata": {},
   "outputs": [
    {
     "name": "stdout",
     "output_type": "stream",
     "text": [
      "SIMPLE  =                    T /                                                BITPIX  =                   16 /                                                NAXIS   =                    3 /                                                NAXIS1  =                  361 /                                                NAXIS2  =                  228 /                                                NAXIS3  =                    1 /                                                CTYPE1  = 'RA      '           /                                                CRVAL1  =           0.00000000 /                                                CDELT1  =           1.00000000 /                                                CRPIX1  =           181.000000 /                                                CROTA1  =           0.00000000 /                                                CTYPE2  = 'FELO-LSR'           /                                                CRVAL2  =          -601524.110 /                                                CDELT2  =           5276.52728 /                                                CRPIX2  =           1.00000000 /                                                CROTA2  =           0.00000000 /                                                CTYPE3  = 'DEC     '           /                                                CRVAL3  =           0.00000000 /                                                CDELT3  =           1.00000000 /                                                CRPIX3  =           41.0000000 /                                                CROTA3  =           0.00000000 /                                                EPOCH   =           1950.00000 /                                                BLANK   =               -32768 /                                                BSCALE  =        0.00149537474 /                                                BZERO   =           48.8539382 /                                                BUNIT   = 'K       '           /                                                DATAMAX =           97.8528824 /                                                DATAMIN =         -0.145005912 /                                                DATE    = '31/01/91'           /                                                OBJECT  = 'HI.1    '           /                                                TELESCOP= 'BTL 7M  '           /                                                HISTORY COMB TITLE BTL HI SURVEY DEC = -40                                      HISTORY COMB PARAM ir:59 ci: rc:                                                END                                                                                                                                                                                                                                             \n"
     ]
    }
   ],
   "source": [
    "ravel001 = fits.open(\"VIII_28.tar/fits/ravel001.fit\")\n",
    "print(ravel001[0].header)"
   ]
  },
  {
   "cell_type": "code",
   "execution_count": null,
   "metadata": {},
   "outputs": [],
   "source": []
  }
 ],
 "metadata": {
  "kernelspec": {
   "display_name": "Python 3",
   "language": "python",
   "name": "python3"
  },
  "language_info": {
   "codemirror_mode": {
    "name": "ipython",
    "version": 3
   },
   "file_extension": ".py",
   "mimetype": "text/x-python",
   "name": "python",
   "nbconvert_exporter": "python",
   "pygments_lexer": "ipython3",
   "version": "3.8.8"
  },
  "widgets": {
   "application/vnd.jupyter.widget-state+json": {
    "state": {
     "614c056f9da546e99e13516067d84b51": {
      "model_module": "ipyaladin",
      "model_module_version": "^0.2.5",
      "model_name": "AladinModel",
      "state": {
       "_model_module_version": "^0.2.5",
       "_view_module_version": "^0.2.5",
       "allow_full_zoomout": false,
       "color_map_flag": true,
       "color_map_name": "",
       "coo_frame": "J2000",
       "fov": 0.40402,
       "full_screen": false,
       "height": 400,
       "layout": "IPY_MODEL_b614942c85f143f29cb69fd61d31fc08",
       "listener_flag": true,
       "listener_type": "",
       "log": true,
       "moc_URL": "https://cdsarc.cds.unistra.fr/viz-bin/moc/J/AJ/157/229",
       "moc_dict": {},
       "moc_from_URL_flag": false,
       "moc_from_dict_flag": true,
       "moc_options": {
        "color": "pink",
        "opacity": 0.5
       },
       "options": [
        "allow_full_zoomout",
        "coo_frame",
        "fov",
        "full_screen",
        "log",
        "overlay_survey",
        "overlay_survey_opacity",
        "reticle_color",
        "reticle_size",
        "show_catalog",
        "show_context_menu",
        "show_coo_grid",
        "show_frame",
        "show_fullscreen_control",
        "show_goto_control",
        "show_layers_control",
        "show_reticle",
        "show_share_control",
        "show_simbad_pointer_control",
        "show_zoom_control",
        "survey",
        "target"
       ],
       "overlay_from_stcs_flag": true,
       "overlay_options": {},
       "overlay_survey": "",
       "overlay_survey_opacity": 0,
       "rectangular_selection_flag": true,
       "reticle_color": "rgb(178, 50, 178)",
       "reticle_size": 22,
       "show_catalog": true,
       "show_context_menu": true,
       "show_coo_grid": false,
       "show_frame": true,
       "show_fullscreen_control": false,
       "show_goto_control": true,
       "show_layers_control": true,
       "show_reticle": true,
       "show_share_control": false,
       "show_simbad_pointer_control": true,
       "show_zoom_control": true,
       "stc_string": "",
       "survey": "P/DSS2/color",
       "table_columns": [
        [
         1,
         "1757132",
         7608,
         42.48899841308594,
         3.298799967454795e-14,
         7.765999871681779e-16,
         3.2987999886306186e-16,
         8,
         211.1,
         1
        ],
        [
         2,
         "1757132",
         7624,
         55.70100021362305,
         3.3175000832379176e-14,
         6.217699877066171e-16,
         3.3175000938258294e-16,
         8,
         211.1,
         1
        ],
        [
         3,
         "1757132",
         7640,
         67.34300231933594,
         3.196099933105642e-14,
         5.155499914781189e-16,
         3.196099890753995e-16,
         8,
         211.1,
         1
        ],
        [
         4,
         "1757132",
         7656,
         83.2770004272461,
         3.1485000696017396e-14,
         4.2738000265781385e-16,
         3.1485000801896514e-16,
         8,
         211.1,
         1
        ],
        [
         5,
         "1757132",
         7672,
         108.45999908447266,
         3.169599999131023e-14,
         3.4893998718173733e-16,
         3.169599935603552e-16,
         8,
         211.1,
         1
        ],
        [
         6,
         "1757132",
         7688,
         142.10000610351562,
         3.182499972104527e-14,
         2.856200127399625e-16,
         3.182499982692439e-16,
         8,
         211.1,
         1
        ],
        [
         7,
         "1757132",
         7704,
         183.4600067138672,
         3.21299993446926e-14,
         2.3906999363462235e-16,
         3.2130000509362903e-16,
         8,
         211.1,
         1
        ],
        [
         8,
         "1757132",
         7720,
         222.55999755859375,
         3.195000145526927e-14,
         2.072299986775536e-16,
         3.1950000714115444e-16,
         8,
         211.1,
         1
        ],
        [
         9,
         "1757132",
         7736,
         253.0500030517578,
         3.1498000957691855e-14,
         1.8742999473055349e-16,
         3.1498000110658907e-16,
         8,
         211.1,
         1
        ],
        [
         10,
         "1757132",
         7752,
         275.17999267578125,
         3.10060001762133e-14,
         1.745300005812257e-16,
         3.1006001023246247e-16,
         8,
         211.1,
         1
        ]
       ],
       "table_flag": false,
       "table_keys": [
        "recno",
        "ID",
        "Wave",
        "Net",
        "Flux",
        "Stat-err",
        "Sys-err",
        "Nobs",
        "Exp",
        "Qual"
       ],
       "target": "76.446253 52.849186",
       "thumbnail_flag": true,
       "votable_URL": "",
       "votable_from_URL_flag": true,
       "votable_options": {}
      }
     },
     "b614942c85f143f29cb69fd61d31fc08": {
      "model_module": "@jupyter-widgets/base",
      "model_module_version": "2.0.0",
      "model_name": "LayoutModel",
      "state": {}
     }
    },
    "version_major": 2,
    "version_minor": 0
   }
  }
 },
 "nbformat": 4,
 "nbformat_minor": 5
}
