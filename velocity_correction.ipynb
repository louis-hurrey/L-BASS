{
 "cells": [
  {
   "cell_type": "code",
   "execution_count": 29,
   "metadata": {},
   "outputs": [
    {
     "name": "stdout",
     "output_type": "stream",
     "text": [
      "81.76574635338442 20.87305399347512\n",
      "RA: 05:27:03.77912481\n",
      "Dec: 20:52:22.99437651\n",
      "Radial Velocity correction to barycentre: 16.30662787728845 km / s\n"
     ]
    }
   ],
   "source": [
    "import astropy\n",
    "from astropy.coordinates import EarthLocation, SkyCoord, AltAz, ICRS\n",
    "from astropy.time import Time\n",
    "from astropy.constants import c\n",
    "import astropy.units as u\n",
    "import numpy as np\n",
    "\n",
    "alt = 57.66 * u.deg  # Altitude\n",
    "az = 179.99 * u.deg   # Azimuth\n",
    "\n",
    "green_bank = EarthLocation(lat=38.4330 * u.deg, lon=-79.8397 * u.deg, height=800 * u.m)\n",
    "jodrell_bank = EarthLocation(lat=53.234329 * u.deg, lon=-2.3050403 * u.deg, height=77 * u.m)\n",
    "\n",
    "obstime = Time('2024-07-18T09:50:54')\n",
    "\n",
    "altaz = AltAz(alt=alt, az=az, location=jodrell_bank, obstime=obstime)\n",
    "\n",
    "skycoord = SkyCoord(altaz)\n",
    "\n",
    "ra = skycoord.icrs.ra\n",
    "dec = skycoord.icrs.dec\n",
    "\n",
    "print(ra.deg,dec.deg)\n",
    "\n",
    "ra_str = ra.to_string(unit=u.hour, sep=':', pad=True)\n",
    "dec_str = dec.to_string(unit=u.deg, sep=':', pad=True)\n",
    "\n",
    "print(f'RA: {ra_str}')\n",
    "print(f'Dec: {dec_str}')\n",
    "\n",
    "bary_corr = (skycoord.transform_to(ICRS)).radial_velocity_correction(kind='heliocentric')\n",
    "barry_corr = bary_corr.to(u.km/u.s)\n",
    "\n",
    "#print radial velocity correction for barycentre\n",
    "print(f'Radial Velocity correction to barycentre: {barry_corr}')"
   ]
  }
 ],
 "metadata": {
  "kernelspec": {
   "display_name": "LBASS",
   "language": "python",
   "name": "python3"
  },
  "language_info": {
   "codemirror_mode": {
    "name": "ipython",
    "version": 3
   },
   "file_extension": ".py",
   "mimetype": "text/x-python",
   "name": "python",
   "nbconvert_exporter": "python",
   "pygments_lexer": "ipython3",
   "version": "3.8.19"
  }
 },
 "nbformat": 4,
 "nbformat_minor": 2
}
