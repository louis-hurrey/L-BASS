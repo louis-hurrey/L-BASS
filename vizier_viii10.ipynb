{
 "cells": [
  {
   "cell_type": "code",
   "execution_count": 2,
   "metadata": {},
   "outputs": [
    {
     "name": "stdout",
     "output_type": "stream",
     "text": [
      "Collecting pyvo\n",
      "  Downloading pyvo-1.5.2-py3-none-any.whl (910 kB)\n",
      "\u001b[K     |████████████████████████████████| 910 kB 17.0 MB/s eta 0:00:01\n",
      "\u001b[?25hCollecting mocpy\n",
      "  Downloading mocpy-0.15.0-cp38-cp38-manylinux_2_17_x86_64.manylinux2014_x86_64.whl (1.2 MB)\n",
      "\u001b[K     |████████████████████████████████| 1.2 MB 52.4 MB/s eta 0:00:01\n",
      "\u001b[?25hCollecting ipyaladin\n",
      "  Downloading ipyaladin-0.3.0-py2.py3-none-any.whl (7.7 kB)\n",
      "Collecting astropy>=4.1\n",
      "  Downloading astropy-5.2.2-cp38-cp38-manylinux_2_12_x86_64.manylinux2010_x86_64.whl (11.4 MB)\n",
      "\u001b[K     |████████████████████████████████| 11.4 MB 70.6 MB/s eta 0:00:01\n",
      "\u001b[?25hRequirement already satisfied: requests in /opt/conda/lib/python3.8/site-packages (from pyvo) (2.24.0)\n",
      "Requirement already satisfied: numpy<2.0 in /opt/conda/lib/python3.8/site-packages (from mocpy) (1.19.2)\n",
      "Collecting cdshealpix>=0.6.4\n",
      "  Downloading cdshealpix-0.6.5-cp38-cp38-manylinux_2_17_x86_64.manylinux2014_x86_64.whl (927 kB)\n",
      "\u001b[K     |████████████████████████████████| 927 kB 76.2 MB/s eta 0:00:01\n",
      "\u001b[?25hRequirement already satisfied: matplotlib in /opt/conda/lib/python3.8/site-packages (from mocpy) (3.3.2)\n",
      "Collecting networkx>=2.5\n",
      "  Downloading networkx-3.1-py3-none-any.whl (2.1 MB)\n",
      "\u001b[K     |████████████████████████████████| 2.1 MB 24.9 MB/s eta 0:00:01\n",
      "\u001b[?25hCollecting anywidget\n",
      "  Downloading anywidget-0.9.13-py3-none-any.whl (213 kB)\n",
      "\u001b[K     |████████████████████████████████| 213 kB 46.1 MB/s eta 0:00:01\n",
      "\u001b[?25hRequirement already satisfied: packaging>=19.0 in /opt/conda/lib/python3.8/site-packages (from astropy>=4.1->pyvo) (20.4)\n",
      "Collecting PyYAML>=3.13\n",
      "  Downloading PyYAML-6.0.1-cp38-cp38-manylinux_2_17_x86_64.manylinux2014_x86_64.whl (736 kB)\n",
      "\u001b[K     |████████████████████████████████| 736 kB 51.7 MB/s eta 0:00:01\n",
      "\u001b[?25hCollecting pyerfa>=2.0\n",
      "  Downloading pyerfa-2.0.0.3-cp38-cp38-manylinux_2_17_x86_64.manylinux2014_x86_64.whl (749 kB)\n",
      "\u001b[K     |████████████████████████████████| 749 kB 37.4 MB/s eta 0:00:01\n",
      "\u001b[?25hRequirement already satisfied: idna<3,>=2.5 in /opt/conda/lib/python3.8/site-packages (from requests->pyvo) (2.10)\n",
      "Requirement already satisfied: chardet<4,>=3.0.2 in /opt/conda/lib/python3.8/site-packages (from requests->pyvo) (3.0.4)\n",
      "Requirement already satisfied: urllib3!=1.25.0,!=1.25.1,<1.26,>=1.21.1 in /opt/conda/lib/python3.8/site-packages (from requests->pyvo) (1.25.11)\n",
      "Requirement already satisfied: certifi>=2017.4.17 in /opt/conda/lib/python3.8/site-packages (from requests->pyvo) (2020.6.20)\n",
      "Requirement already satisfied: pyparsing!=2.0.4,!=2.1.2,!=2.1.6,>=2.0.3 in /opt/conda/lib/python3.8/site-packages (from matplotlib->mocpy) (2.4.7)\n",
      "Requirement already satisfied: pillow>=6.2.0 in /opt/conda/lib/python3.8/site-packages (from matplotlib->mocpy) (8.0.0)\n",
      "Requirement already satisfied: cycler>=0.10 in /opt/conda/lib/python3.8/site-packages (from matplotlib->mocpy) (0.10.0)\n",
      "Requirement already satisfied: python-dateutil>=2.1 in /opt/conda/lib/python3.8/site-packages (from matplotlib->mocpy) (2.8.1)\n",
      "Requirement already satisfied: kiwisolver>=1.0.1 in /opt/conda/lib/python3.8/site-packages (from matplotlib->mocpy) (1.2.0)\n",
      "Collecting ipywidgets>=7.6.0\n",
      "  Downloading ipywidgets-8.1.3-py3-none-any.whl (139 kB)\n",
      "\u001b[K     |████████████████████████████████| 139 kB 111.5 MB/s eta 0:00:01\n",
      "\u001b[?25hCollecting typing-extensions>=4.2.0\n",
      "  Downloading typing_extensions-4.12.2-py3-none-any.whl (37 kB)\n",
      "Collecting psygnal>=0.8.1\n",
      "  Downloading psygnal-0.11.1-cp38-cp38-manylinux_2_17_x86_64.manylinux2014_x86_64.whl (699 kB)\n",
      "\u001b[K     |████████████████████████████████| 699 kB 110.3 MB/s eta 0:00:01\n",
      "\u001b[?25hRequirement already satisfied: six in /opt/conda/lib/python3.8/site-packages (from packaging>=19.0->astropy>=4.1->pyvo) (1.15.0)\n",
      "Requirement already satisfied: ipython>=6.1.0 in /opt/conda/lib/python3.8/site-packages (from ipywidgets>=7.6.0->anywidget->ipyaladin) (7.18.1)\n",
      "Collecting comm>=0.1.3\n",
      "  Downloading comm-0.2.2-py3-none-any.whl (7.2 kB)\n",
      "Requirement already satisfied: traitlets>=4.3.1 in /opt/conda/lib/python3.8/site-packages (from ipywidgets>=7.6.0->anywidget->ipyaladin) (5.0.5)\n",
      "Collecting widgetsnbextension~=4.0.11\n",
      "  Downloading widgetsnbextension-4.0.11-py3-none-any.whl (2.3 MB)\n",
      "\u001b[K     |████████████████████████████████| 2.3 MB 95.7 MB/s eta 0:00:01\n",
      "\u001b[?25hCollecting jupyterlab-widgets~=3.0.11\n",
      "  Downloading jupyterlab_widgets-3.0.11-py3-none-any.whl (214 kB)\n",
      "\u001b[K     |████████████████████████████████| 214 kB 33.3 MB/s eta 0:00:01\n",
      "\u001b[?25hRequirement already satisfied: backcall in /opt/conda/lib/python3.8/site-packages (from ipython>=6.1.0->ipywidgets>=7.6.0->anywidget->ipyaladin) (0.2.0)\n",
      "Requirement already satisfied: pygments in /opt/conda/lib/python3.8/site-packages (from ipython>=6.1.0->ipywidgets>=7.6.0->anywidget->ipyaladin) (2.7.1)\n",
      "Requirement already satisfied: setuptools>=18.5 in /opt/conda/lib/python3.8/site-packages (from ipython>=6.1.0->ipywidgets>=7.6.0->anywidget->ipyaladin) (49.6.0.post20201009)\n",
      "Requirement already satisfied: decorator in /opt/conda/lib/python3.8/site-packages (from ipython>=6.1.0->ipywidgets>=7.6.0->anywidget->ipyaladin) (4.4.2)\n",
      "Requirement already satisfied: pexpect>4.3; sys_platform != \"win32\" in /opt/conda/lib/python3.8/site-packages (from ipython>=6.1.0->ipywidgets>=7.6.0->anywidget->ipyaladin) (4.8.0)\n",
      "Requirement already satisfied: pickleshare in /opt/conda/lib/python3.8/site-packages (from ipython>=6.1.0->ipywidgets>=7.6.0->anywidget->ipyaladin) (0.7.5)\n",
      "Requirement already satisfied: prompt-toolkit!=3.0.0,!=3.0.1,<3.1.0,>=2.0.0 in /opt/conda/lib/python3.8/site-packages (from ipython>=6.1.0->ipywidgets>=7.6.0->anywidget->ipyaladin) (3.0.8)\n",
      "Requirement already satisfied: jedi>=0.10 in /opt/conda/lib/python3.8/site-packages (from ipython>=6.1.0->ipywidgets>=7.6.0->anywidget->ipyaladin) (0.17.2)\n",
      "Requirement already satisfied: ipython-genutils in /opt/conda/lib/python3.8/site-packages (from traitlets>=4.3.1->ipywidgets>=7.6.0->anywidget->ipyaladin) (0.2.0)\n",
      "Requirement already satisfied: ptyprocess>=0.5 in /opt/conda/lib/python3.8/site-packages (from pexpect>4.3; sys_platform != \"win32\"->ipython>=6.1.0->ipywidgets>=7.6.0->anywidget->ipyaladin) (0.6.0)\n",
      "Requirement already satisfied: wcwidth in /opt/conda/lib/python3.8/site-packages (from prompt-toolkit!=3.0.0,!=3.0.1,<3.1.0,>=2.0.0->ipython>=6.1.0->ipywidgets>=7.6.0->anywidget->ipyaladin) (0.2.5)\n",
      "Requirement already satisfied: parso<0.8.0,>=0.7.0 in /opt/conda/lib/python3.8/site-packages (from jedi>=0.10->ipython>=6.1.0->ipywidgets>=7.6.0->anywidget->ipyaladin) (0.7.1)\n",
      "Installing collected packages: PyYAML, pyerfa, astropy, pyvo, cdshealpix, networkx, mocpy, comm, widgetsnbextension, jupyterlab-widgets, ipywidgets, typing-extensions, psygnal, anywidget, ipyaladin\n",
      "  Attempting uninstall: widgetsnbextension\n",
      "    Found existing installation: widgetsnbextension 3.5.1\n",
      "    Uninstalling widgetsnbextension-3.5.1:\n",
      "      Successfully uninstalled widgetsnbextension-3.5.1\n",
      "  Attempting uninstall: ipywidgets\n",
      "    Found existing installation: ipywidgets 7.5.1\n",
      "    Uninstalling ipywidgets-7.5.1:\n",
      "      Successfully uninstalled ipywidgets-7.5.1\n",
      "\u001b[31mERROR: After October 2020 you may experience errors when installing or updating packages. This is because pip will change the way that it resolves dependency conflicts.\n",
      "\n",
      "We recommend you use --use-feature=2020-resolver to test your packages with the new resolver before it becomes the default.\n",
      "\n",
      "astropy 5.2.2 requires numpy>=1.20, but you'll have numpy 1.19.2 which is incompatible.\u001b[0m\n",
      "Successfully installed PyYAML-6.0.1 anywidget-0.9.13 astropy-5.2.2 cdshealpix-0.6.5 comm-0.2.2 ipyaladin-0.3.0 ipywidgets-8.1.3 jupyterlab-widgets-3.0.11 mocpy-0.15.0 networkx-3.1 psygnal-0.11.1 pyerfa-2.0.0.3 pyvo-1.5.2 typing-extensions-4.12.2 widgetsnbextension-4.0.11\n",
      "Note: you may need to restart the kernel to use updated packages.\n"
     ]
    }
   ],
   "source": [
    "pip install pyvo mocpy ipyaladin"
   ]
  },
  {
   "cell_type": "code",
   "execution_count": 1,
   "metadata": {
    "scrolled": false
   },
   "outputs": [],
   "source": [
    "# Access astronomical databases\n",
    "from pyvo import registry  # version >=1.4.1 \n",
    "\n",
    "# Moc and HEALPix tools\n",
    "from mocpy import MOC\n",
    "\n",
    "# Sky visualization\n",
    "from ipyaladin import Aladin    # version >=0.3.0\n",
    "\n",
    "# For plots\n",
    "import matplotlib.pyplot as plt"
   ]
  },
  {
   "cell_type": "markdown",
   "metadata": {},
   "source": [
    "# Welcome to VizieR example workflow\n",
    "\n",
    "[![Vizier](https://custom-icon-badges.demolab.com/badge/Vizier-gray.svg?logo=vizier&logoColor=orange&logoWidth=20)](https://vizier.cds.unistra.fr/viz-bin/VizieR \"https://vizier.cds.unistra.fr/viz-bin/VizieR\")\n",
    "\n",
    "It is a generic notebook, highlighting what can be done once you chose a catalog. This workflow is suggested by [CDS](https://cdsweb.unistra.fr/) (Strasbourg Astronomical Data Center, house of [VizieR](https://vizier.cds.unistra.fr/viz-bin/VizieR)).\n",
    "\n",
    "--------------------------------------------------------\n",
    "\n",
    "Modify the <a href='https://vizier.cds.unistra.fr/'>VizieR catalogue</a> name (variable <b>CATALOGUE</b>) and anything else you might feel like exploring!\n",
    "\n",
    "## 1. Setup\n",
    "\n",
    "This example notebook has the following dependencies: \n",
    "\n",
    "**Required**\n",
    "- pyvo : this library facilitates the access to the Virtual Observatory (VO) resources. VizieR is part of the VO.\n",
    "This notebook needs version >=1.4.1\n",
    "\n",
    "**Optional, for visualization**\n",
    "- ipyaladin : this is the Aladin-lite sky viewer, bundled as a jupyter widget. It allows to plot catalogs and multi-order coverages (MOC)\n",
    "- matplotlib : an other option to see catalog points and MOCs\n",
    "\n",
    "## 2. Metadata exploration with the Virtual Observatory registry\n",
    "\n",
    "This part uses [pyvo](https://pyvo.readthedocs.io/en) to connect to the VO registry."
   ]
  },
  {
   "cell_type": "code",
   "execution_count": 2,
   "metadata": {},
   "outputs": [],
   "source": [
    "# the catalogue name in VizieR\n",
    "CATALOGUE = \"VIII/10\""
   ]
  },
  {
   "cell_type": "markdown",
   "metadata": {},
   "source": [
    "We first retrieve catalogue information."
   ]
  },
  {
   "cell_type": "code",
   "execution_count": 3,
   "metadata": {},
   "outputs": [],
   "source": [
    "# each resource in the VO has an identifier, called ivoid. For vizier catalogs,\n",
    "# the VO ids can be constructed like this:\n",
    "catalogue_ivoid = f\"ivo://CDS.VizieR/{CATALOGUE}\"\n",
    "# the actual query to the registry\n",
    "voresource = registry.search(ivoid=catalogue_ivoid)[0]"
   ]
  },
  {
   "cell_type": "code",
   "execution_count": 4,
   "metadata": {},
   "outputs": [
    {
     "name": "stdout",
     "output_type": "stream",
     "text": [
      "Bell Laboratories H I Profiles\n",
      "Short Name: VIII/10\n",
      "IVOA Identifier: ivo://cds.vizier/viii/10\n",
      "Access modes: conesearch, tap#aux, web\n",
      "Multi-capability service -- use get_service()\n",
      "\n",
      "This survey consists of H I 21-cm spectra covering galactic latitudes\n",
      "|b|>10degrees, North of Declination -40deg, observed with the 20-foot horn\n",
      "reflector at AT&T Bell Laboratories, Crawford Hill. The instrument beam is\n",
      "2{deg} (FWHM). The data consist of 124-channel profiles sorted in Galactic\n",
      "latitude and longitude; each channel has a width of 5.3km/s. The data were\n",
      "obtained by holding the telescope fixed and letting the sky drift through.\n",
      "Then the natural coordinate system for the data is in equatorial coordinates,\n",
      "so the data are not gridded in Galactic coordinates. Note that this catalog\n",
      "represents the Bell Laboratories H I Survey in a preliminary version; it is\n",
      "superseded by Catalog VIII/28.\n",
      "\n",
      "Waveband Coverage: radio\n",
      "\n",
      "Source: 1992ApJS...79...77S\n",
      "Authors: Stark A.A.,  Gammie C.F.,  Wilson R.W.,  Bally J.,  Linke R.A.\n",
      "More info: https://cdsarc.cds.unistra.fr/viz-bin/cat/VIII/10\n"
     ]
    }
   ],
   "source": [
    "# We can print metadata information about the catalogue\n",
    "voresource.describe(verbose=True)"
   ]
  },
  {
   "cell_type": "markdown",
   "metadata": {},
   "source": [
    "We can also inspect in details the `resource` object and access the attributes not provided by the describe method. See for example, the first author of a resource: "
   ]
  },
  {
   "cell_type": "code",
   "execution_count": 5,
   "metadata": {},
   "outputs": [
    {
     "data": {
      "text/plain": [
       "'Stark A.A.'"
      ]
     },
     "execution_count": 5,
     "metadata": {},
     "output_type": "execute_result"
    }
   ],
   "source": [
    "voresource.creators[0]"
   ]
  },
  {
   "cell_type": "markdown",
   "metadata": {},
   "source": [
    "## 3. Access the tabular data of this catalog\n",
    "\n",
    "We can have a look at the tables available in the catalogue."
   ]
  },
  {
   "cell_type": "code",
   "execution_count": 6,
   "metadata": {},
   "outputs": [
    {
     "name": "stderr",
     "output_type": "stream",
     "text": [
      "WARNING: W02: ?:?:?: W02: '' is not a valid datatype according to the VOSI spec [pyvo.io.vosi.vodataservice]\n"
     ]
    },
    {
     "data": {
      "text/plain": [
       "{'VIII/10/catalog': <VODataServiceTable name=\"VIII/10/catalog\">... 18 columns ...</VODataServiceTable>}"
      ]
     },
     "execution_count": 6,
     "metadata": {},
     "output_type": "execute_result"
    }
   ],
   "source": [
    "tables = voresource.get_tables()\n",
    "tables"
   ]
  },
  {
   "cell_type": "code",
   "execution_count": 7,
   "metadata": {},
   "outputs": [
    {
     "data": {
      "text/plain": [
       "['VIII/10/catalog']"
      ]
     },
     "execution_count": 7,
     "metadata": {},
     "output_type": "execute_result"
    }
   ],
   "source": [
    "# We can also extract the tables names for later use\n",
    "tables_names = list(tables.keys())\n",
    "tables_names"
   ]
  },
  {
   "cell_type": "markdown",
   "metadata": {},
   "source": [
    "The actual data can then be access using any of the ``access_modes`` of the voresource."
   ]
  },
  {
   "cell_type": "code",
   "execution_count": 8,
   "metadata": {},
   "outputs": [
    {
     "data": {
      "text/plain": [
       "{'conesearch', 'tap#aux', 'web'}"
      ]
     },
     "execution_count": 8,
     "metadata": {},
     "output_type": "execute_result"
    }
   ],
   "source": [
    "voresource.access_modes()"
   ]
  },
  {
   "cell_type": "markdown",
   "metadata": {},
   "source": [
    "The web access is found by following the ``reference_url``"
   ]
  },
  {
   "cell_type": "code",
   "execution_count": 9,
   "metadata": {},
   "outputs": [
    {
     "data": {
      "text/plain": [
       "'https://cdsarc.cds.unistra.fr/viz-bin/cat/VIII/10'"
      ]
     },
     "execution_count": 9,
     "metadata": {},
     "output_type": "execute_result"
    }
   ],
   "source": [
    "voresource.reference_url"
   ]
  },
  {
   "cell_type": "markdown",
   "metadata": {},
   "source": [
    "### 3.1 Execute a SQL/ADQL query\n",
    "\n",
    "The ``tap#aux`` in the ``access_mode`` response indicates that we can also do a SQL/ADQL query for these VizieR tables.\n",
    "\n",
    "On the first table of the catalogue, we execute an <a href='https://www.ivoa.net/documents/latest/ADQL.html'>ADQL</a> query."
   ]
  },
  {
   "cell_type": "code",
   "execution_count": 10,
   "metadata": {},
   "outputs": [
    {
     "data": {
      "text/plain": [
       "<DALResultsTable length=10>\n",
       "recno  GLONc   GLATc       RAB1950       ...   a3    b1    b2    b3 \n",
       "        deg     deg          deg         ...                        \n",
       "int32 float64 float64      float64       ... int32 int32 int32 int32\n",
       "----- ------- ------- ------------------ ... ----- ----- ----- -----\n",
       " 1055  19.946  -3.207  44.19166666666666 ...     0 12121    -9     0\n",
       "11691  17.583  -4.671  45.80416666666666 ...     0 -4361    38     0\n",
       "11692  17.689  -4.597  46.84166666666666 ...     0 -4226    41     0\n",
       "11690  17.475  -4.744 44.762499999999996 ...     0 -4412    39     0\n",
       "11689  17.364  -4.817 43.720833333333324 ...     0 -4457    40     0\n",
       "11688  17.232  -4.898  42.52916666666666 ...     0 -4418    38     0\n",
       "12026  17.227   -4.63 44.320833333333326 ...     0 -6266    38     0\n",
       "12029  17.546  -4.414  47.44166666666666 ...     0 -6220    42     0\n",
       "12030  17.647   -4.34  48.48333333333333 ...     0 -6447    39     0\n",
       "12028  17.443  -4.487  46.40416666666666 ...     0 -6181    37     0"
      ]
     },
     "execution_count": 10,
     "metadata": {},
     "output_type": "execute_result"
    }
   ],
   "source": [
    "# get the first table of the catalogue\n",
    "first_table_name = tables_names[0]\n",
    "\n",
    "# execute a synchronous ADQL query\n",
    "tap_service = voresource.get_service(\"tap\")\n",
    "tap_records = voresource.get_service(\"tap\").run_sync(\n",
    "    f'select TOP 10 * from \"{first_table_name}\"',\n",
    ")\n",
    "tap_records"
   ]
  },
  {
   "cell_type": "markdown",
   "metadata": {},
   "source": [
    "<!-- section position -->\n",
    "\n",
    "We will explore the other access modes here.\n",
    "\n",
    "### 3.2. Execute a cone search query\n",
    "\n",
    "We use the Simple Cone Search (<a href='https://www.ivoa.net/documents/latest/ConeSearch.html'>SCS</a>) protocol of the virtual observatory (only available for tables with positions).\n",
    "\n",
    "Adapt the radius and position of the center to your needs."
   ]
  },
  {
   "cell_type": "code",
   "execution_count": 11,
   "metadata": {},
   "outputs": [],
   "source": [
    "conesearch_radius = 1 / 60.0  # in degrees\n",
    "conesearch_center = (44.82421875, 0.2051611072473247)"
   ]
  },
  {
   "cell_type": "code",
   "execution_count": 12,
   "metadata": {},
   "outputs": [
    {
     "data": {
      "text/plain": [
       "<DALResultsTable length=1>\n",
       " _RAJ2000  _DEJ2000    _r   recno  GLONc  ...   b1    b2    b3  Profile Cube\n",
       "   deg       deg                    deg   ...                               \n",
       " float64   float64  float64  str8 float32 ... int32 int32 int32   str7  str4\n",
       "--------- --------- ------- ----- ------- ... ----- ----- ----- ------- ----\n",
       " 44.83262   0.19854 0.01070  1055  19.946 ... 12121    -9     0 Profile Cube"
      ]
     },
     "execution_count": 12,
     "metadata": {},
     "output_type": "execute_result"
    }
   ],
   "source": [
    "conesearch_records = voresource.get_service(\"conesearch\").search(\n",
    "    pos=conesearch_center,\n",
    "    sr=conesearch_radius,\n",
    ")\n",
    "conesearch_records"
   ]
  },
  {
   "cell_type": "markdown",
   "metadata": {},
   "source": [
    "## 4. Get the catalogue coverage\n",
    "\n",
    "VizieR also provides the coverage of each catalogue with Multiple Order Coverage (<a href='https://ivoa.net/documents/MOC/'>MOC</a>) at order 10 -- meaning with a 0.001 rad spacial resolution."
   ]
  },
  {
   "cell_type": "code",
   "execution_count": 13,
   "metadata": {},
   "outputs": [
    {
     "data": {
      "image/png": "[encoded data removed]",
      "text/plain": [
       "<Figure size 432x288 with 1 Axes>"
      ]
     },
     "metadata": {
      "needs_background": "light"
     },
     "output_type": "display_data"
    }
   ],
   "source": [
    "# retrieve the MOC\n",
    "catalogue_coverage = MOC.from_fits(\n",
    "    f\"https://cdsarc.cds.unistra.fr/viz-bin/moc/{CATALOGUE}\",\n",
    ")\n",
    "catalogue_coverage.display_preview()"
   ]
  },
  {
   "cell_type": "markdown",
   "metadata": {},
   "source": [
    "We can plot the coverage with ``matplotlib``."
   ]
  },
  {
   "cell_type": "code",
   "execution_count": 14,
   "metadata": {},
   "outputs": [
    {
     "data": {
      "image/png": "[encoded data removed]",
      "text/plain": [
       "<Figure size 360x360 with 1 Axes>"
      ]
     },
     "metadata": {
      "needs_background": "light"
     },
     "output_type": "display_data"
    }
   ],
   "source": [
    "fig = plt.figure(figsize=(5, 5))\n",
    "wcs = catalogue_coverage.wcs(fig)\n",
    "ax = fig.add_subplot(projection=wcs)\n",
    "catalogue_coverage.fill(ax=ax, wcs=wcs, alpha=0.5, color=\"blue\")"
   ]
  },
  {
   "cell_type": "markdown",
   "metadata": {},
   "source": [
    "or with ipyaladin"
   ]
  },
  {
   "cell_type": "code",
   "execution_count": 23,
   "metadata": {
    "scrolled": true
   },
   "outputs": [
    {
     "data": {
      "application/vnd.jupyter.widget-view+json": {
       "model_id": "b5b48dee24194234b4bdc58cefe6150e",
       "version_major": 2,
       "version_minor": 1
      },
      "text/plain": [
       "Aladin(init_options=['background_color', 'coo_frame', 'fov', 'full_screen', 'grid_color', 'grid_opacity', 'gri…"
      ]
     },
     "execution_count": 23,
     "metadata": {},
     "output_type": "execute_result"
    }
   ],
   "source": [
    "aladin = Aladin()\n",
    "aladin"
   ]
  },
  {
   "cell_type": "markdown",
   "metadata": {},
   "source": [
    "We can add the tables and coverage in this ipyaladin window."
   ]
  },
  {
   "cell_type": "code",
   "execution_count": 24,
   "metadata": {},
   "outputs": [],
   "source": [
    "aladin.add_table(conesearch_records.to_table())"
   ]
  },
  {
   "cell_type": "code",
   "execution_count": 25,
   "metadata": {},
   "outputs": [],
   "source": [
    "aladin.add_table(tap_records.to_table())"
   ]
  },
  {
   "cell_type": "code",
   "execution_count": 19,
   "metadata": {},
   "outputs": [
    {
     "name": "stderr",
     "output_type": "stream",
     "text": [
      "<ipython-input-19-6fbf199bb952>:1: DeprecationWarning: add_moc_from_URL is replaced by add_moc that detects automaticallythat the MOC was given as an URL.\n",
      "  aladin.add_moc_from_URL(\n"
     ]
    }
   ],
   "source": [
    "aladin.add_moc_from_URL(\n",
    "    f\"https://cdsarc.cds.unistra.fr/viz-bin/moc/{CATALOGUE}\",\n",
    "    moc_options={\"opacity\": 0.5, \"color\": \"pink\"},\n",
    ")"
   ]
  },
  {
   "cell_type": "markdown",
   "metadata": {},
   "source": [
    "For more information about manipulating coverages, see [MOCpy documentation](https://cds-astro.github.io/mocpy/)."
   ]
  }
 ],
 "metadata": {
  "kernelspec": {
   "display_name": "Python 3",
   "language": "python",
   "name": "python3"
  },
  "language_info": {
   "codemirror_mode": {
    "name": "ipython",
    "version": 3
   },
   "file_extension": ".py",
   "mimetype": "text/x-python",
   "name": "python",
   "nbconvert_exporter": "python",
   "pygments_lexer": "ipython3",
   "version": "3.8.6"
  },
  "widgets": {
   "application/vnd.jupyter.widget-state+json": {
    "state": {
     "614c056f9da546e99e13516067d84b51": {
      "model_module": "ipyaladin",
      "model_module_version": "^0.2.5",
      "model_name": "AladinModel",
      "state": {
       "_model_module_version": "^0.2.5",
       "_view_module_version": "^0.2.5",
       "allow_full_zoomout": false,
       "color_map_flag": true,
       "color_map_name": "",
       "coo_frame": "J2000",
       "fov": 0.40402,
       "full_screen": false,
       "height": 400,
       "layout": "IPY_MODEL_b614942c85f143f29cb69fd61d31fc08",
       "listener_flag": true,
       "listener_type": "",
       "log": true,
       "moc_URL": "https://cdsarc.cds.unistra.fr/viz-bin/moc/J/AJ/157/229",
       "moc_dict": {},
       "moc_from_URL_flag": false,
       "moc_from_dict_flag": true,
       "moc_options": {
        "color": "pink",
        "opacity": 0.5
       },
       "options": [
        "allow_full_zoomout",
        "coo_frame",
        "fov",
        "full_screen",
        "log",
        "overlay_survey",
        "overlay_survey_opacity",
        "reticle_color",
        "reticle_size",
        "show_catalog",
        "show_context_menu",
        "show_coo_grid",
        "show_frame",
        "show_fullscreen_control",
        "show_goto_control",
        "show_layers_control",
        "show_reticle",
        "show_share_control",
        "show_simbad_pointer_control",
        "show_zoom_control",
        "survey",
        "target"
       ],
       "overlay_from_stcs_flag": true,
       "overlay_options": {},
       "overlay_survey": "",
       "overlay_survey_opacity": 0,
       "rectangular_selection_flag": true,
       "reticle_color": "rgb(178, 50, 178)",
       "reticle_size": 22,
       "show_catalog": true,
       "show_context_menu": true,
       "show_coo_grid": false,
       "show_frame": true,
       "show_fullscreen_control": false,
       "show_goto_control": true,
       "show_layers_control": true,
       "show_reticle": true,
       "show_share_control": false,
       "show_simbad_pointer_control": true,
       "show_zoom_control": true,
       "stc_string": "",
       "survey": "P/DSS2/color",
       "table_columns": [
        [
         1,
         "1757132",
         7608,
         42.48899841308594,
         3.298799967454795e-14,
         7.765999871681779e-16,
         3.2987999886306186e-16,
         8,
         211.1,
         1
        ],
        [
         2,
         "1757132",
         7624,
         55.70100021362305,
         3.3175000832379176e-14,
         6.217699877066171e-16,
         3.3175000938258294e-16,
         8,
         211.1,
         1
        ],
        [
         3,
         "1757132",
         7640,
         67.34300231933594,
         3.196099933105642e-14,
         5.155499914781189e-16,
         3.196099890753995e-16,
         8,
         211.1,
         1
        ],
        [
         4,
         "1757132",
         7656,
         83.2770004272461,
         3.1485000696017396e-14,
         4.2738000265781385e-16,
         3.1485000801896514e-16,
         8,
         211.1,
         1
        ],
        [
         5,
         "1757132",
         7672,
         108.45999908447266,
         3.169599999131023e-14,
         3.4893998718173733e-16,
         3.169599935603552e-16,
         8,
         211.1,
         1
        ],
        [
         6,
         "1757132",
         7688,
         142.10000610351562,
         3.182499972104527e-14,
         2.856200127399625e-16,
         3.182499982692439e-16,
         8,
         211.1,
         1
        ],
        [
         7,
         "1757132",
         7704,
         183.4600067138672,
         3.21299993446926e-14,
         2.3906999363462235e-16,
         3.2130000509362903e-16,
         8,
         211.1,
         1
        ],
        [
         8,
         "1757132",
         7720,
         222.55999755859375,
         3.195000145526927e-14,
         2.072299986775536e-16,
         3.1950000714115444e-16,
         8,
         211.1,
         1
        ],
        [
         9,
         "1757132",
         7736,
         253.0500030517578,
         3.1498000957691855e-14,
         1.8742999473055349e-16,
         3.1498000110658907e-16,
         8,
         211.1,
         1
        ],
        [
         10,
         "1757132",
         7752,
         275.17999267578125,
         3.10060001762133e-14,
         1.745300005812257e-16,
         3.1006001023246247e-16,
         8,
         211.1,
         1
        ]
       ],
       "table_flag": false,
       "table_keys": [
        "recno",
        "ID",
        "Wave",
        "Net",
        "Flux",
        "Stat-err",
        "Sys-err",
        "Nobs",
        "Exp",
        "Qual"
       ],
       "target": "76.446253 52.849186",
       "thumbnail_flag": true,
       "votable_URL": "",
       "votable_from_URL_flag": true,
       "votable_options": {}
      }
     },
     "b614942c85f143f29cb69fd61d31fc08": {
      "model_module": "@jupyter-widgets/base",
      "model_module_version": "2.0.0",
      "model_name": "LayoutModel",
      "state": {}
     }
    },
    "version_major": 2,
    "version_minor": 0
   }
  }
 },
 "nbformat": 4,
 "nbformat_minor": 5
}
